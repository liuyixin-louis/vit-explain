{
 "cells": [
  {
   "cell_type": "code",
   "execution_count": null,
   "metadata": {},
   "outputs": [],
   "source": [
    "# metrics\n",
    "# [clean accuracy, robust accuracy, top-k mask overlap under pertubed]\n",
    "\n",
    "# vit model\n",
    "# deit, vit\n",
    "\n",
    "# dataset\n",
    "# cifar10, lsun_bedroom, lsun_cat, lsun_church\n",
    "\n",
    "# threat method"
   ]
  },
  {
   "cell_type": "code",
   "execution_count": null,
   "metadata": {},
   "outputs": [],
   "source": [
    "# clean case\n",
    "\n",
    "# get model\n",
    "# get dataset\n",
    "# loop over dataset\n",
    "# get metrics: clean accuracy\n"
   ]
  },
  {
   "cell_type": "code",
   "execution_count": null,
   "metadata": {},
   "outputs": [],
   "source": [
    "# poisoning case without defense\n",
    "\n",
    "# get model\n",
    "# get dataset  \n",
    "# loop over dataset\n",
    "# for data inside the poison set\n",
    "# get the original attention mask\n",
    "# poison the data with Adversarial Attack\n",
    "# get the attention mask after poisoning\n",
    "# get the metrics: robust accuracy, top-k mask overlap under pertubed\n"
   ]
  },
  {
   "cell_type": "code",
   "execution_count": null,
   "metadata": {},
   "outputs": [],
   "source": [
    "# poisoning case with defense\n",
    "\n",
    "# get model\n",
    "# get dataset  \n",
    "# loop over dataset\n",
    "# for data inside the poison set\n",
    "# get the original attention mask\n",
    "# poison the data with Adversarial Attack with epsilon\n",
    "# 1. denoise poisoned image with pretrained diffusion model with epsilon\n",
    "# 2. conduct random smoothing on the denoised image with delta of R computed using (2*delta ?)\n",
    "# get the attention mask after poisoning\n",
    "# get the metrics: robust accuracy, top-k mask overlap under pertubed\n"
   ]
  }
 ],
 "metadata": {
  "kernelspec": {
   "display_name": "Python 3.8.13 ('geomloss')",
   "language": "python",
   "name": "python3"
  },
  "language_info": {
   "name": "python",
   "version": "3.8.13"
  },
  "orig_nbformat": 4,
  "vscode": {
   "interpreter": {
    "hash": "8c50803388a061639c814fb7dfb3af7b729ad07381b24c7b3119ac23d6e364a4"
   }
  }
 },
 "nbformat": 4,
 "nbformat_minor": 2
}
